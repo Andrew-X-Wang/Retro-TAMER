{
 "cells": [
  {
   "cell_type": "code",
   "execution_count": 9,
   "metadata": {},
   "outputs": [],
   "source": [
    "import csv\n",
    "import numpy as np\n",
    "import pandas as pd\n",
    "import matplotlib.pyplot as plt"
   ]
  },
  {
   "cell_type": "code",
   "execution_count": 83,
   "metadata": {},
   "outputs": [],
   "source": [
    "names_TAMER = [\"gian_marco\", \"gian_marco2\", \"gian_marco3\", \"andrew_wang_1\"]\n",
    "names_retro_TAMER_multiple = [\"gian_marco\", \"gian_marco2\", \"andrew_wang_1\"]\n",
    "names_retro_TAMER_single = [\"andrew_wang_1\", \"andrew_wang_2\"]"
   ]
  },
  {
   "cell_type": "code",
   "execution_count": 106,
   "metadata": {},
   "outputs": [
    {
     "data": {
      "image/png": "[encoded data removed]",
      "text/plain": [
       "<Figure size 432x288 with 1 Axes>"
      ]
     },
     "metadata": {
      "needs_background": "light"
     },
     "output_type": "display_data"
    },
    {
     "name": "stdout",
     "output_type": "stream",
     "text": [
      "At peak: 162 timesteps\n",
      "Second episode: 331 timesteps\n",
      "Third episode: 407 timesteps\n"
     ]
    }
   ],
   "source": [
    "name = \"results/Retro_TAMER_single_andrew_wang_1.csv\"\n",
    "df = pd.read_csv(name)\n",
    "\n",
    "x = np.linspace(1, df[\"Timesteps\"].shape[0] + 1, df[\"Timesteps\"].shape[0], dtype=int)\n",
    "plt.plot(x, df[\"Timesteps\"])\n",
    "plt.plot(x, df[\"Feedbacks\"]*50)\n",
    "plt.title(\"Retro-TAMER, single feedback\")\n",
    "plt.xlabel(\"Episode\")\n",
    "plt.ylabel(\"Number of Timesteps\")\n",
    "plt.show()\n",
    "print(\"At peak: %d timesteps\" % (np.array(df[\"Timesteps\"])[-1]))\n",
    "print(\"Second episode: %d timesteps\" % (np.array(df[\"Timesteps\"])[1]))\n",
    "print(\"Third episode: %d timesteps\" % (np.array(df[\"Timesteps\"])[2]))"
   ]
  },
  {
   "cell_type": "code",
   "execution_count": 84,
   "metadata": {},
   "outputs": [],
   "source": [
    "def collect_data(filepath, names):\n",
    "    data = {\"Peak\": [], \"Episodes for Peak\": [], \"Second Episode\": [], \"Third Episode\": [],  \"Fs 2nd episode\": []}\n",
    "    for name in names:\n",
    "        df = pd.read_csv(filepath + \"_\" + name + \".csv\")\n",
    "        data[\"Peak\"].append(np.array(df[\"Timesteps\"])[-1])\n",
    "        data[\"Second Episode\"].append(np.array(df[\"Timesteps\"])[1])\n",
    "        data[\"Third Episode\"].append(np.array(df[\"Timesteps\"])[2])\n",
    "        data[\"Episodes for Peak\"].append(int(df[\"Timesteps\"].shape[0]))\n",
    "        data[\"Fs 2nd episode\"].append(np.array(df[\"Feedbacks\"])[1])\n",
    "    return pd.DataFrame(data)"
   ]
  },
  {
   "cell_type": "code",
   "execution_count": 85,
   "metadata": {},
   "outputs": [
    {
     "name": "stdout",
     "output_type": "stream",
     "text": [
      "   Peak  Episodes for Peak  Second Episode  Third Episode  Fs 2nd episode\n",
      "0   187                  5            1246            588              11\n",
      "1   201                  9            1260            363              13\n",
      "2   184                  3             248            184               2\n",
      "3   198                  8             482            805               4\n"
     ]
    }
   ],
   "source": [
    "print(collect_data(\"results/TAMER\", names_TAMER))"
   ]
  },
  {
   "cell_type": "code",
   "execution_count": 86,
   "metadata": {},
   "outputs": [
    {
     "name": "stdout",
     "output_type": "stream",
     "text": [
      "   Peak  Episodes for Peak  Second Episode  Third Episode  Fs 2nd episode\n",
      "0   184                 12             297            253               1\n",
      "1   196                 11             235            336               3\n",
      "2   206                 16             330            190               2\n"
     ]
    }
   ],
   "source": [
    "print(collect_data(\"results/Retro_TAMER_multiple\", names_retro_TAMER_multiple))"
   ]
  },
  {
   "cell_type": "code",
   "execution_count": 88,
   "metadata": {},
   "outputs": [
    {
     "name": "stdout",
     "output_type": "stream",
     "text": [
      "   Peak  Episodes for Peak  Second Episode  Third Episode  Fs 2nd episode\n",
      "0   162                  7             331            407               2\n",
      "1   131                 10             260            175               1\n"
     ]
    }
   ],
   "source": [
    "print(collect_data(\"results/Retro_TAMER_single\", names_retro_TAMER_single))"
   ]
  },
  {
   "cell_type": "code",
   "execution_count": null,
   "metadata": {},
   "outputs": [],
   "source": []
  },
  {
   "cell_type": "code",
   "execution_count": 7,
   "metadata": {},
   "outputs": [
    {
     "name": "stdout",
     "output_type": "stream",
     "text": [
      "   Timesteps  Feedbacks  Retro-Feedbacks  Experience Level First Trial?\n",
      "0       1300         11               10               0.0            y\n",
      "1       1752         24               16               NaN          NaN\n",
      "    Timesteps  Feedbacks  Experience Level First Trial?\n",
      "0         764         26               0.0            y\n",
      "1         315         21               NaN          NaN\n",
      "2         345         14               NaN          NaN\n",
      "3         267         24               NaN          NaN\n",
      "4         386         24               NaN          NaN\n",
      "5         245          4               NaN          NaN\n",
      "6         684         10               NaN          NaN\n",
      "7         388         40               NaN          NaN\n",
      "8         246         11               NaN          NaN\n",
      "9         534         18               NaN          NaN\n",
      "10        637         23               NaN          NaN\n",
      "11        801         17               NaN          NaN\n",
      "12        519         12               NaN          NaN\n",
      "13        906         21               NaN          NaN\n"
     ]
    }
   ],
   "source": [
    "name = \"results/Retro_TAMER_multiple_Andrew_cervantes.csv\"\n",
    "df = pd.read_csv(name)\n",
    "print(df)\n",
    "\n",
    "name = \"results/TAMER_james_cameron.csv\"\n",
    "df = pd.read_csv(name)\n",
    "print(df)"
   ]
  },
  {
   "cell_type": "code",
   "execution_count": 3,
   "metadata": {},
   "outputs": [],
   "source": []
  },
  {
   "cell_type": "code",
   "execution_count": null,
   "metadata": {},
   "outputs": [],
   "source": []
  }
 ],
 "metadata": {
  "kernelspec": {
   "display_name": "Python 3",
   "language": "python",
   "name": "python3"
  },
  "language_info": {
   "codemirror_mode": {
    "name": "ipython",
    "version": 3
   },
   "file_extension": ".py",
   "mimetype": "text/x-python",
   "name": "python",
   "nbconvert_exporter": "python",
   "pygments_lexer": "ipython3",
   "version": "3.6.8"
  }
 },
 "nbformat": 4,
 "nbformat_minor": 2
}
