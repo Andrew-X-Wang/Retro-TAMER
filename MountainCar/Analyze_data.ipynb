{
 "cells": [
  {
   "cell_type": "code",
   "execution_count": 3,
   "metadata": {},
   "outputs": [],
   "source": [
    "import csv\n",
    "import numpy as np\n",
    "import pandas as pd\n",
    "import matplotlib.pyplot as plt"
   ]
  },
  {
   "cell_type": "code",
   "execution_count": 26,
   "metadata": {},
   "outputs": [],
   "source": [
    "names_TAMER = [\"gian_marco\", \"gian_marco2\", \"gian_marco3\", \"gian_marco4\", \"gian_marco5\", \"gian_marco6\", \"gian_marco7\", \"gian_marco8\", \"gian_marco9\", \"gian_marco10\"]\n",
    "names_retro_TAMER_multiple = [\"gian_marco\", \"gian_marco2\", \"andrew_wang_1\"]\n",
    "names_retro_TAMER_single = [\"andrew_wang_2\",\"gian_marco\", \"gian_marco2\", \"gian_marco3\", \"gian_marco4\"]"
   ]
  },
  {
   "cell_type": "code",
   "execution_count": 5,
   "metadata": {},
   "outputs": [
    {
     "ename": "FileNotFoundError",
     "evalue": "[Errno 2] File b'results/Retro_TAMER_single_andrew_wang_1.csv' does not exist: b'results/Retro_TAMER_single_andrew_wang_1.csv'",
     "output_type": "error",
     "traceback": [
      "\u001b[1;31m---------------------------------------------------------------------------\u001b[0m",
      "\u001b[1;31mFileNotFoundError\u001b[0m                         Traceback (most recent call last)",
      "\u001b[1;32m<ipython-input-5-ee70d517c5b7>\u001b[0m in \u001b[0;36m<module>\u001b[1;34m\u001b[0m\n\u001b[0;32m      1\u001b[0m \u001b[0mname\u001b[0m \u001b[1;33m=\u001b[0m \u001b[1;34m\"results/Retro_TAMER_single_andrew_wang_1.csv\"\u001b[0m\u001b[1;33m\u001b[0m\u001b[1;33m\u001b[0m\u001b[0m\n\u001b[1;32m----> 2\u001b[1;33m \u001b[0mdf\u001b[0m \u001b[1;33m=\u001b[0m \u001b[0mpd\u001b[0m\u001b[1;33m.\u001b[0m\u001b[0mread_csv\u001b[0m\u001b[1;33m(\u001b[0m\u001b[0mname\u001b[0m\u001b[1;33m)\u001b[0m\u001b[1;33m\u001b[0m\u001b[1;33m\u001b[0m\u001b[0m\n\u001b[0m\u001b[0;32m      3\u001b[0m \u001b[1;33m\u001b[0m\u001b[0m\n\u001b[0;32m      4\u001b[0m \u001b[0mx\u001b[0m \u001b[1;33m=\u001b[0m \u001b[0mnp\u001b[0m\u001b[1;33m.\u001b[0m\u001b[0mlinspace\u001b[0m\u001b[1;33m(\u001b[0m\u001b[1;36m1\u001b[0m\u001b[1;33m,\u001b[0m \u001b[0mdf\u001b[0m\u001b[1;33m[\u001b[0m\u001b[1;34m\"Timesteps\"\u001b[0m\u001b[1;33m]\u001b[0m\u001b[1;33m.\u001b[0m\u001b[0mshape\u001b[0m\u001b[1;33m[\u001b[0m\u001b[1;36m0\u001b[0m\u001b[1;33m]\u001b[0m \u001b[1;33m+\u001b[0m \u001b[1;36m1\u001b[0m\u001b[1;33m,\u001b[0m \u001b[0mdf\u001b[0m\u001b[1;33m[\u001b[0m\u001b[1;34m\"Timesteps\"\u001b[0m\u001b[1;33m]\u001b[0m\u001b[1;33m.\u001b[0m\u001b[0mshape\u001b[0m\u001b[1;33m[\u001b[0m\u001b[1;36m0\u001b[0m\u001b[1;33m]\u001b[0m\u001b[1;33m,\u001b[0m \u001b[0mdtype\u001b[0m\u001b[1;33m=\u001b[0m\u001b[0mint\u001b[0m\u001b[1;33m)\u001b[0m\u001b[1;33m\u001b[0m\u001b[1;33m\u001b[0m\u001b[0m\n\u001b[0;32m      5\u001b[0m \u001b[0mplt\u001b[0m\u001b[1;33m.\u001b[0m\u001b[0mplot\u001b[0m\u001b[1;33m(\u001b[0m\u001b[0mx\u001b[0m\u001b[1;33m,\u001b[0m \u001b[0mdf\u001b[0m\u001b[1;33m[\u001b[0m\u001b[1;34m\"Timesteps\"\u001b[0m\u001b[1;33m]\u001b[0m\u001b[1;33m)\u001b[0m\u001b[1;33m\u001b[0m\u001b[1;33m\u001b[0m\u001b[0m\n",
      "\u001b[1;32m~\\AppData\\Roaming\\Python\\Python37\\site-packages\\pandas\\io\\parsers.py\u001b[0m in \u001b[0;36mparser_f\u001b[1;34m(filepath_or_buffer, sep, delimiter, header, names, index_col, usecols, squeeze, prefix, mangle_dupe_cols, dtype, engine, converters, true_values, false_values, skipinitialspace, skiprows, skipfooter, nrows, na_values, keep_default_na, na_filter, verbose, skip_blank_lines, parse_dates, infer_datetime_format, keep_date_col, date_parser, dayfirst, cache_dates, iterator, chunksize, compression, thousands, decimal, lineterminator, quotechar, quoting, doublequote, escapechar, comment, encoding, dialect, error_bad_lines, warn_bad_lines, delim_whitespace, low_memory, memory_map, float_precision)\u001b[0m\n\u001b[0;32m    683\u001b[0m         )\n\u001b[0;32m    684\u001b[0m \u001b[1;33m\u001b[0m\u001b[0m\n\u001b[1;32m--> 685\u001b[1;33m         \u001b[1;32mreturn\u001b[0m \u001b[0m_read\u001b[0m\u001b[1;33m(\u001b[0m\u001b[0mfilepath_or_buffer\u001b[0m\u001b[1;33m,\u001b[0m \u001b[0mkwds\u001b[0m\u001b[1;33m)\u001b[0m\u001b[1;33m\u001b[0m\u001b[1;33m\u001b[0m\u001b[0m\n\u001b[0m\u001b[0;32m    686\u001b[0m \u001b[1;33m\u001b[0m\u001b[0m\n\u001b[0;32m    687\u001b[0m     \u001b[0mparser_f\u001b[0m\u001b[1;33m.\u001b[0m\u001b[0m__name__\u001b[0m \u001b[1;33m=\u001b[0m \u001b[0mname\u001b[0m\u001b[1;33m\u001b[0m\u001b[1;33m\u001b[0m\u001b[0m\n",
      "\u001b[1;32m~\\AppData\\Roaming\\Python\\Python37\\site-packages\\pandas\\io\\parsers.py\u001b[0m in \u001b[0;36m_read\u001b[1;34m(filepath_or_buffer, kwds)\u001b[0m\n\u001b[0;32m    455\u001b[0m \u001b[1;33m\u001b[0m\u001b[0m\n\u001b[0;32m    456\u001b[0m     \u001b[1;31m# Create the parser.\u001b[0m\u001b[1;33m\u001b[0m\u001b[1;33m\u001b[0m\u001b[1;33m\u001b[0m\u001b[0m\n\u001b[1;32m--> 457\u001b[1;33m     \u001b[0mparser\u001b[0m \u001b[1;33m=\u001b[0m \u001b[0mTextFileReader\u001b[0m\u001b[1;33m(\u001b[0m\u001b[0mfp_or_buf\u001b[0m\u001b[1;33m,\u001b[0m \u001b[1;33m**\u001b[0m\u001b[0mkwds\u001b[0m\u001b[1;33m)\u001b[0m\u001b[1;33m\u001b[0m\u001b[1;33m\u001b[0m\u001b[0m\n\u001b[0m\u001b[0;32m    458\u001b[0m \u001b[1;33m\u001b[0m\u001b[0m\n\u001b[0;32m    459\u001b[0m     \u001b[1;32mif\u001b[0m \u001b[0mchunksize\u001b[0m \u001b[1;32mor\u001b[0m \u001b[0miterator\u001b[0m\u001b[1;33m:\u001b[0m\u001b[1;33m\u001b[0m\u001b[1;33m\u001b[0m\u001b[0m\n",
      "\u001b[1;32m~\\AppData\\Roaming\\Python\\Python37\\site-packages\\pandas\\io\\parsers.py\u001b[0m in \u001b[0;36m__init__\u001b[1;34m(self, f, engine, **kwds)\u001b[0m\n\u001b[0;32m    893\u001b[0m             \u001b[0mself\u001b[0m\u001b[1;33m.\u001b[0m\u001b[0moptions\u001b[0m\u001b[1;33m[\u001b[0m\u001b[1;34m\"has_index_names\"\u001b[0m\u001b[1;33m]\u001b[0m \u001b[1;33m=\u001b[0m \u001b[0mkwds\u001b[0m\u001b[1;33m[\u001b[0m\u001b[1;34m\"has_index_names\"\u001b[0m\u001b[1;33m]\u001b[0m\u001b[1;33m\u001b[0m\u001b[1;33m\u001b[0m\u001b[0m\n\u001b[0;32m    894\u001b[0m \u001b[1;33m\u001b[0m\u001b[0m\n\u001b[1;32m--> 895\u001b[1;33m         \u001b[0mself\u001b[0m\u001b[1;33m.\u001b[0m\u001b[0m_make_engine\u001b[0m\u001b[1;33m(\u001b[0m\u001b[0mself\u001b[0m\u001b[1;33m.\u001b[0m\u001b[0mengine\u001b[0m\u001b[1;33m)\u001b[0m\u001b[1;33m\u001b[0m\u001b[1;33m\u001b[0m\u001b[0m\n\u001b[0m\u001b[0;32m    896\u001b[0m \u001b[1;33m\u001b[0m\u001b[0m\n\u001b[0;32m    897\u001b[0m     \u001b[1;32mdef\u001b[0m \u001b[0mclose\u001b[0m\u001b[1;33m(\u001b[0m\u001b[0mself\u001b[0m\u001b[1;33m)\u001b[0m\u001b[1;33m:\u001b[0m\u001b[1;33m\u001b[0m\u001b[1;33m\u001b[0m\u001b[0m\n",
      "\u001b[1;32m~\\AppData\\Roaming\\Python\\Python37\\site-packages\\pandas\\io\\parsers.py\u001b[0m in \u001b[0;36m_make_engine\u001b[1;34m(self, engine)\u001b[0m\n\u001b[0;32m   1133\u001b[0m     \u001b[1;32mdef\u001b[0m \u001b[0m_make_engine\u001b[0m\u001b[1;33m(\u001b[0m\u001b[0mself\u001b[0m\u001b[1;33m,\u001b[0m \u001b[0mengine\u001b[0m\u001b[1;33m=\u001b[0m\u001b[1;34m\"c\"\u001b[0m\u001b[1;33m)\u001b[0m\u001b[1;33m:\u001b[0m\u001b[1;33m\u001b[0m\u001b[1;33m\u001b[0m\u001b[0m\n\u001b[0;32m   1134\u001b[0m         \u001b[1;32mif\u001b[0m \u001b[0mengine\u001b[0m \u001b[1;33m==\u001b[0m \u001b[1;34m\"c\"\u001b[0m\u001b[1;33m:\u001b[0m\u001b[1;33m\u001b[0m\u001b[1;33m\u001b[0m\u001b[0m\n\u001b[1;32m-> 1135\u001b[1;33m             \u001b[0mself\u001b[0m\u001b[1;33m.\u001b[0m\u001b[0m_engine\u001b[0m \u001b[1;33m=\u001b[0m \u001b[0mCParserWrapper\u001b[0m\u001b[1;33m(\u001b[0m\u001b[0mself\u001b[0m\u001b[1;33m.\u001b[0m\u001b[0mf\u001b[0m\u001b[1;33m,\u001b[0m \u001b[1;33m**\u001b[0m\u001b[0mself\u001b[0m\u001b[1;33m.\u001b[0m\u001b[0moptions\u001b[0m\u001b[1;33m)\u001b[0m\u001b[1;33m\u001b[0m\u001b[1;33m\u001b[0m\u001b[0m\n\u001b[0m\u001b[0;32m   1136\u001b[0m         \u001b[1;32melse\u001b[0m\u001b[1;33m:\u001b[0m\u001b[1;33m\u001b[0m\u001b[1;33m\u001b[0m\u001b[0m\n\u001b[0;32m   1137\u001b[0m             \u001b[1;32mif\u001b[0m \u001b[0mengine\u001b[0m \u001b[1;33m==\u001b[0m \u001b[1;34m\"python\"\u001b[0m\u001b[1;33m:\u001b[0m\u001b[1;33m\u001b[0m\u001b[1;33m\u001b[0m\u001b[0m\n",
      "\u001b[1;32m~\\AppData\\Roaming\\Python\\Python37\\site-packages\\pandas\\io\\parsers.py\u001b[0m in \u001b[0;36m__init__\u001b[1;34m(self, src, **kwds)\u001b[0m\n\u001b[0;32m   1904\u001b[0m         \u001b[0mkwds\u001b[0m\u001b[1;33m[\u001b[0m\u001b[1;34m\"usecols\"\u001b[0m\u001b[1;33m]\u001b[0m \u001b[1;33m=\u001b[0m \u001b[0mself\u001b[0m\u001b[1;33m.\u001b[0m\u001b[0musecols\u001b[0m\u001b[1;33m\u001b[0m\u001b[1;33m\u001b[0m\u001b[0m\n\u001b[0;32m   1905\u001b[0m \u001b[1;33m\u001b[0m\u001b[0m\n\u001b[1;32m-> 1906\u001b[1;33m         \u001b[0mself\u001b[0m\u001b[1;33m.\u001b[0m\u001b[0m_reader\u001b[0m \u001b[1;33m=\u001b[0m \u001b[0mparsers\u001b[0m\u001b[1;33m.\u001b[0m\u001b[0mTextReader\u001b[0m\u001b[1;33m(\u001b[0m\u001b[0msrc\u001b[0m\u001b[1;33m,\u001b[0m \u001b[1;33m**\u001b[0m\u001b[0mkwds\u001b[0m\u001b[1;33m)\u001b[0m\u001b[1;33m\u001b[0m\u001b[1;33m\u001b[0m\u001b[0m\n\u001b[0m\u001b[0;32m   1907\u001b[0m         \u001b[0mself\u001b[0m\u001b[1;33m.\u001b[0m\u001b[0munnamed_cols\u001b[0m \u001b[1;33m=\u001b[0m \u001b[0mself\u001b[0m\u001b[1;33m.\u001b[0m\u001b[0m_reader\u001b[0m\u001b[1;33m.\u001b[0m\u001b[0munnamed_cols\u001b[0m\u001b[1;33m\u001b[0m\u001b[1;33m\u001b[0m\u001b[0m\n\u001b[0;32m   1908\u001b[0m \u001b[1;33m\u001b[0m\u001b[0m\n",
      "\u001b[1;32mpandas\\_libs\\parsers.pyx\u001b[0m in \u001b[0;36mpandas._libs.parsers.TextReader.__cinit__\u001b[1;34m()\u001b[0m\n",
      "\u001b[1;32mpandas\\_libs\\parsers.pyx\u001b[0m in \u001b[0;36mpandas._libs.parsers.TextReader._setup_parser_source\u001b[1;34m()\u001b[0m\n",
      "\u001b[1;31mFileNotFoundError\u001b[0m: [Errno 2] File b'results/Retro_TAMER_single_andrew_wang_1.csv' does not exist: b'results/Retro_TAMER_single_andrew_wang_1.csv'"
     ]
    }
   ],
   "source": [
    "name = \"results/Retro_TAMER_single_andrew_wang_1.csv\"\n",
    "df = pd.read_csv(name)\n",
    "\n",
    "x = np.linspace(1, df[\"Timesteps\"].shape[0] + 1, df[\"Timesteps\"].shape[0], dtype=int)\n",
    "plt.plot(x, df[\"Timesteps\"])\n",
    "plt.plot(x, df[\"Feedbacks\"]*50)\n",
    "plt.title(\"Retro-TAMER, single feedback\")\n",
    "plt.xlabel(\"Episode\")\n",
    "plt.ylabel(\"Number of Timesteps\")\n",
    "plt.show()\n",
    "print(\"At peak: %d timesteps\" % (np.array(df[\"Timesteps\"])[-1]))\n",
    "print(\"Second episode: %d timesteps\" % (np.array(df[\"Timesteps\"])[1]))\n",
    "print(\"Third episode: %d timesteps\" % (np.array(df[\"Timesteps\"])[2]))"
   ]
  },
  {
   "cell_type": "code",
   "execution_count": 28,
   "metadata": {},
   "outputs": [],
   "source": [
    "def collect_data(filepath, names):\n",
    "    data = {\"Peak\": [], \"Episodes for Peak\": [], \"Timesteps at Peak\": [], \"Second Episode\": [], \"Third Episode\": [],  \"Fs 2nd episode\": []}\n",
    "    for name in names:\n",
    "        df = pd.read_csv(filepath + \"_\" + name + \".csv\")\n",
    "        data[\"Peak\"].append(np.array(df[\"Timesteps\"])[-1])\n",
    "        data[\"Second Episode\"].append(np.array(df[\"Timesteps\"])[1])\n",
    "        try:\n",
    "            data[\"Third Episode\"].append(np.array(df[\"Timesteps\"])[2])\n",
    "        except:\n",
    "            data[\"Third Episode\"].append(0)\n",
    "        data[\"Episodes for Peak\"].append(int(df[\"Timesteps\"].shape[0]))\n",
    "        data[\"Fs 2nd episode\"].append(np.array(df[\"Feedbacks\"])[1])\n",
    "        data[\"Timesteps at Peak\"].append(np.array(df.iloc[-1][\"Timesteps\"]))\n",
    "    return pd.DataFrame(data)\n",
    "\n",
    "# Average, std. dev, histogram\n",
    "def hist_ep_to_peak_ts_at_peak(filepath, names, ep_bins=10, ts_bins=10):\n",
    "    # Histogram of number of episodes to \"peak\":\n",
    "    episodes_to_peak = []\n",
    "    # Histogram of number of time steps at \"peak\":\n",
    "    timesteps_at_peak = []\n",
    "    for name in names:\n",
    "        df = pd.read_csv(filepath + \"_\" + name + \".csv\")\n",
    "        # Assumes training stopped as soon as peak reached\n",
    "        episodes_to_peak.append(len(df.values))\n",
    "        timesteps_at_peak.append(df.iloc[-1]['Timesteps'])\n",
    "    \n",
    "    plt.hist(episodes_to_peak, bins=10)\n",
    "    plt.show()\n",
    "    plt.hist(timesteps_at_peak, bins=10)\n",
    "    plt.show()\n",
    "        \n",
    "    return episodes_to_peak.mean(), timesteps_at_peak.mean()"
   ]
  },
  {
   "cell_type": "code",
   "execution_count": null,
   "metadata": {},
   "outputs": [],
   "source": [
    "filepath = \"results/Retro_TAMER_single\" \n",
    "names = names_retro_TAMER_single\n",
    "\n",
    "dfs = []\n",
    "max_timesteps = 0\n",
    "for name in names:\n",
    "    df = pd.read_csv(filepath + \"_\" + name + \".csv\")\n",
    "    dfs.append(df)\n",
    "    max_timesteps = max(max_timesteps, df[\"Timesteps\"].shape[0])\n",
    "\n",
    "timesteps_R_TAMER_s = np.zeros(max_timesteps)\n",
    "to_average = np.zeros(max_timesteps)\n",
    "feedbacks = np.zeros(max_timesteps)\n",
    "for df in dfs:\n",
    "    for i in range(df[\"Timesteps\"].shape[0]):\n",
    "        timesteps_R_TAMER_s[i] += np.array(df[\"Timesteps\"])[i]\n",
    "        feedbacks[i] += np.array(df[\"Feedbacks\"])[i]\n",
    "        to_average[i] += 1\n",
    "\n",
    "for i in range(max_timesteps):\n",
    "    timesteps_R_TAMER_s[i] = float(timesteps_R_TAMER_s[i])/float(to_average[i]) \n",
    "    feedbacks[i] = float(feedbacks[i])/float(to_average[i])\n",
    "    \n",
    "x = np.linspace(1, max_timesteps + 1, max_timesteps, dtype=int)\n",
    "plt.plot(x, timesteps_R_TAMER_s)\n",
    "plt.plot(x, feedbacks*20)\n",
    "plt.title(\"Retro-TAMER, single feedback\")\n",
    "plt.xlabel(\"Episode\")\n",
    "plt.ylabel(\"Number of Timesteps\")\n",
    "plt.show()\n",
    "\n",
    "plt.scatter(timesteps_R_TAMER_s, feedbacks)\n",
    "#plt.show()"
   ]
  },
  {
   "cell_type": "code",
   "execution_count": 22,
   "metadata": {},
   "outputs": [
    {
     "name": "stdout",
     "output_type": "stream",
     "text": [
      "[10, 13, 8, 4, 6]\n",
      "[131, 185, 179, 135, 197]\n"
     ]
    },
    {
     "data": {
      "image/png": "[encoded data removed]",
      "text/plain": [
       "<Figure size 432x288 with 1 Axes>"
      ]
     },
     "metadata": {
      "needs_background": "light"
     },
     "output_type": "display_data"
    },
    {
     "data": {
      "image/png": "[encoded data removed]",
      "text/plain": [
       "<Figure size 432x288 with 1 Axes>"
      ]
     },
     "metadata": {
      "needs_background": "light"
     },
     "output_type": "display_data"
    }
   ],
   "source": [
    "filepath = \"results/Retro_TAMER_single\" \n",
    "names = names_retro_TAMER_single\n",
    "\n",
    "# Histogram of number of episodes to \"peak\":\n",
    "episodes_to_peak = []\n",
    "# Histogram of number of time steps at \"peak\":\n",
    "timesteps_at_peak = []\n",
    "for name in names:\n",
    "    df = pd.read_csv(filepath + \"_\" + name + \".csv\")\n",
    "    episodes_to_peak.append(len(df.values))\n",
    "    timesteps_at_peak.append(df.iloc[-1]['Timesteps'])\n",
    "    \n",
    "print(episodes_to_peak)\n",
    "print(timesteps_at_peak)"
   ]
  },
  {
   "cell_type": "code",
   "execution_count": null,
   "metadata": {},
   "outputs": [],
   "source": [
    "filepath = \"results/TAMER\" \n",
    "names = names_TAMER\n",
    "\n",
    "dfs = []\n",
    "max_timesteps = 0\n",
    "for name in names:\n",
    "    df = pd.read_csv(filepath + \"_\" + name + \".csv\")\n",
    "    dfs.append(df)\n",
    "    max_timesteps = max(max_timesteps, df[\"Timesteps\"].shape[0])\n",
    "\n",
    "timesteps_TAMER = np.zeros(max_timesteps)\n",
    "to_average = np.zeros(max_timesteps)\n",
    "for df in dfs:\n",
    "    for i in range(df[\"Timesteps\"].shape[0]):\n",
    "        timesteps_TAMER[i] += np.array(df[\"Timesteps\"])[i]\n",
    "        feedbacks[i] += np.array(df[\"Feedbacks\"])[i]\n",
    "        to_average[i] += 1\n",
    "\n",
    "for i in range(max_timesteps):\n",
    "    timesteps_TAMER[i] = float(timesteps_TAMER[i])/float(to_average[i])      \n",
    "    \n",
    "x = np.linspace(1, max_timesteps + 1, max_timesteps, dtype=int)\n",
    "plt.plot(x, timesteps_TAMER)\n",
    "plt.plot(x, feedbacks*20)\n",
    "plt.title(\"TAMER\")\n",
    "plt.xlabel(\"Episode\")\n",
    "plt.ylabel(\"Number of Timesteps\")\n",
    "plt.show()"
   ]
  },
  {
   "cell_type": "code",
   "execution_count": null,
   "metadata": {},
   "outputs": [],
   "source": [
    "filepath = \"results/Retro_TAMER_multiple\" \n",
    "names = names_retro_TAMER_multiple\n",
    "\n",
    "dfs = []\n",
    "max_timesteps = 0\n",
    "for name in names:\n",
    "    df = pd.read_csv(filepath + \"_\" + name + \".csv\")\n",
    "    dfs.append(df)\n",
    "    max_timesteps = max(max_timesteps, df[\"Timesteps\"].shape[0])\n",
    "\n",
    "timesteps_R_TAMER_m = np.zeros(max_timesteps)\n",
    "to_average = np.zeros(max_timesteps)\n",
    "for df in dfs:\n",
    "    for i in range(df[\"Timesteps\"].shape[0]):\n",
    "        timesteps_R_TAMER_m[i] += np.array(df[\"Timesteps\"])[i]\n",
    "        to_average[i] += 1\n",
    "        \n",
    "for i in range(max_timesteps):\n",
    "    timesteps_R_TAMER_m[i] = float(timesteps_R_TAMER_m[i])/float(to_average[i])      \n",
    "    \n",
    "x = np.linspace(1, max_timesteps + 1, max_timesteps, dtype=int)\n",
    "plt.plot(x, timesteps_R_TAMER_m)\n",
    "# plt.plot(x, df[\"Feedbacks\"]*50)\n",
    "plt.title(\"Retro-TAMER, multiple\")\n",
    "plt.xlabel(\"Episode\")\n",
    "plt.ylabel(\"Number of Timesteps\")\n",
    "plt.show()"
   ]
  },
  {
   "cell_type": "code",
   "execution_count": null,
   "metadata": {},
   "outputs": [],
   "source": [
    "max_timesteps = 17\n",
    "if i in range(max_timesteps):\n",
    "    if timesteps_R_TAMER_s.shape[0] < max_timesteps:\n",
    "        timesteps_R_TAMER_s = list(timesteps_R_TAMER_s)\n",
    "        print(timesteps_R_TAMER_s)\n",
    "        timesteps_R_TAMER_s = np.array(timesteps_R_TAMER_s.append(0.0))\n",
    "        print(timesteps_R_TAMER_s)\n",
    "    if timesteps_R_TAMER_m.shape[0] < max_timesteps:\n",
    "        timesteps_R_TAMER_m = list(timesteps_R_TAMER_m)\n",
    "        timesteps_R_TAMER_m = np.array(timesteps_R_TAMER_m.append(0.0))\n",
    "    if timesteps_TAMER.shape[0] < max_timesteps:\n",
    "        timesteps_TAMER = list(timesteps_TAMER)\n",
    "        timesteps_TAMER = np.array(timesteps_TAMER.append(0.0))\n",
    "\n",
    "x = np.linspace(1, max_timesteps + 1, max_timesteps, dtype=int)\n",
    "plt.plot(x, timesteps_R_TAMER_s, label=\"lol\")\n",
    "plt.plot(x, timesteps_R_TAMER_m)\n",
    "plt.plot(x, timesteps_TAMER)\n",
    "plt.title(\"Retro-TAMER, multiple\")\n",
    "plt.xlabel(\"Episode\")\n",
    "plt.ylabel(\"Number of Timesteps\")\n",
    "plt.legend()\n",
    "plt.show()"
   ]
  },
  {
   "cell_type": "code",
   "execution_count": null,
   "metadata": {},
   "outputs": [],
   "source": []
  },
  {
   "cell_type": "code",
   "execution_count": 29,
   "metadata": {},
   "outputs": [
    {
     "name": "stdout",
     "output_type": "stream",
     "text": [
      "   Peak  Episodes for Peak  Second Episode  Third Episode  Fs 2nd episode  \\\n",
      "0   187                  5            1246            588              11   \n",
      "1   201                  9            1260            363              13   \n",
      "2   184                  3             248            184               2   \n",
      "3   127                  4             389            328               4   \n",
      "4   187                  2             187              0               0   \n",
      "5   258                  4            1000            401               8   \n",
      "6   183                  2             183              0               0   \n",
      "7   198                  6            1009           1013               9   \n",
      "8   197                  4             692            274               7   \n",
      "9   168                  3             258            168               1   \n",
      "\n",
      "  Timesteps at Peak  \n",
      "0               187  \n",
      "1               201  \n",
      "2               184  \n",
      "3               127  \n",
      "4               187  \n",
      "5               258  \n",
      "6               183  \n",
      "7               198  \n",
      "8               197  \n",
      "9               168  \n"
     ]
    }
   ],
   "source": [
    "print(collect_data(\"results/TAMER\", names_TAMER))"
   ]
  },
  {
   "cell_type": "code",
   "execution_count": 30,
   "metadata": {},
   "outputs": [
    {
     "name": "stdout",
     "output_type": "stream",
     "text": [
      "   Peak  Episodes for Peak  Second Episode  Third Episode  Fs 2nd episode  \\\n",
      "0   184                 12             297            253               1   \n",
      "1   196                 11             235            336               3   \n",
      "2   206                 16             330            190               2   \n",
      "\n",
      "  Timesteps at Peak  \n",
      "0               184  \n",
      "1               196  \n",
      "2               206  \n"
     ]
    }
   ],
   "source": [
    "print(collect_data(\"results/Retro_TAMER_multiple\", names_retro_TAMER_multiple))"
   ]
  },
  {
   "cell_type": "code",
   "execution_count": 31,
   "metadata": {},
   "outputs": [
    {
     "name": "stdout",
     "output_type": "stream",
     "text": [
      "   Peak  Episodes for Peak  Second Episode  Third Episode  Fs 2nd episode  \\\n",
      "0   131                 10             260            175               1   \n",
      "1   185                 13             471           1900               6   \n",
      "2   179                  8             327           1704               8   \n",
      "3   135                  4             253            228               2   \n",
      "4   197                  6             253            408               2   \n",
      "\n",
      "  Timesteps at Peak  \n",
      "0               131  \n",
      "1               185  \n",
      "2               179  \n",
      "3               135  \n",
      "4               197  \n"
     ]
    }
   ],
   "source": [
    "print(collect_data(\"results/Retro_TAMER_single\", names_retro_TAMER_single))"
   ]
  },
  {
   "cell_type": "code",
   "execution_count": null,
   "metadata": {},
   "outputs": [],
   "source": []
  },
  {
   "cell_type": "code",
   "execution_count": null,
   "metadata": {},
   "outputs": [],
   "source": [
    "name = \"results/Retro_TAMER_multiple_Andrew_cervantes.csv\"\n",
    "df = pd.read_csv(name)\n",
    "print(df)\n",
    "\n",
    "name = \"results/TAMER_james_cameron.csv\"\n",
    "df = pd.read_csv(name)\n",
    "print(df)"
   ]
  },
  {
   "cell_type": "code",
   "execution_count": null,
   "metadata": {},
   "outputs": [],
   "source": []
  }
 ],
 "metadata": {
  "kernelspec": {
   "display_name": "Python 3",
   "language": "python",
   "name": "python3"
  },
  "language_info": {
   "codemirror_mode": {
    "name": "ipython",
    "version": 3
   },
   "file_extension": ".py",
   "mimetype": "text/x-python",
   "name": "python",
   "nbconvert_exporter": "python",
   "pygments_lexer": "ipython3",
   "version": "3.7.4"
  }
 },
 "nbformat": 4,
 "nbformat_minor": 2
}
