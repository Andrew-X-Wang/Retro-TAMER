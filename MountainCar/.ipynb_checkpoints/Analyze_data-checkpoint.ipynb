{
 "cells": [
  {
   "cell_type": "code",
   "execution_count": 1,
   "metadata": {},
   "outputs": [],
   "source": [
    "import csv\n",
    "import numpy as np\n",
    "import pandas as pd"
   ]
  },
  {
   "cell_type": "code",
   "execution_count": 2,
   "metadata": {},
   "outputs": [],
   "source": [
    "names_TAMER = [\"Andrew_Cervantes\", \"james_cameron\", \"Kate_Hanson\"]\n",
    "names_retro_TAMER_multiple = [\"Andrew_cervantes\", \"Andrew_wang\", \"Athreya\", \"Athreya2\", \"James_Cameron\", \"Kate\"]\n",
    "names_retro_TAMER_single = []"
   ]
  },
  {
   "cell_type": "code",
   "execution_count": 7,
   "metadata": {},
   "outputs": [
    {
     "name": "stdout",
     "output_type": "stream",
     "text": [
      "   Timesteps  Feedbacks  Retro-Feedbacks  Experience Level First Trial?\n",
      "0       1300         11               10               0.0            y\n",
      "1       1752         24               16               NaN          NaN\n",
      "    Timesteps  Feedbacks  Experience Level First Trial?\n",
      "0         764         26               0.0            y\n",
      "1         315         21               NaN          NaN\n",
      "2         345         14               NaN          NaN\n",
      "3         267         24               NaN          NaN\n",
      "4         386         24               NaN          NaN\n",
      "5         245          4               NaN          NaN\n",
      "6         684         10               NaN          NaN\n",
      "7         388         40               NaN          NaN\n",
      "8         246         11               NaN          NaN\n",
      "9         534         18               NaN          NaN\n",
      "10        637         23               NaN          NaN\n",
      "11        801         17               NaN          NaN\n",
      "12        519         12               NaN          NaN\n",
      "13        906         21               NaN          NaN\n"
     ]
    }
   ],
   "source": [
    "name = \"results/Retro_TAMER_multiple_Andrew_cervantes.csv\"\n",
    "df = pd.read_csv(name)\n",
    "print(df)\n",
    "\n",
    "name = \"results/TAMER_james_cameron.csv\"\n",
    "df = pd.read_csv(name)\n",
    "print(df)"
   ]
  },
  {
   "cell_type": "code",
   "execution_count": 3,
   "metadata": {},
   "outputs": [],
   "source": []
  },
  {
   "cell_type": "code",
   "execution_count": null,
   "metadata": {},
   "outputs": [],
   "source": []
  }
 ],
 "metadata": {
  "kernelspec": {
   "display_name": "Python 3",
   "language": "python",
   "name": "python3"
  },
  "language_info": {
   "codemirror_mode": {
    "name": "ipython",
    "version": 3
   },
   "file_extension": ".py",
   "mimetype": "text/x-python",
   "name": "python",
   "nbconvert_exporter": "python",
   "pygments_lexer": "ipython3",
   "version": "3.6.8"
  }
 },
 "nbformat": 4,
 "nbformat_minor": 2
}
